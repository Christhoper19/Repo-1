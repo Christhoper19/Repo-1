{
 "cells": [
  {
   "cell_type": "markdown",
   "id": "637c52c4-f781-46ef-88e3-f6985fd87c70",
   "metadata": {},
   "source": [
    "# Data Science Tools and Ecosystem"
   ]
  },
  {
   "cell_type": "markdown",
   "id": "e4821c9d-fd1a-4edc-87b8-5d06cd270c1d",
   "metadata": {},
   "source": [
    "## In this Notebook, Data Science Tools and Ecosystem are Summarized"
   ]
  },
  {
   "cell_type": "markdown",
   "id": "8a95fcba-96fb-471f-b826-1403dd209005",
   "metadata": {},
   "source": [
    "# Some of the popular language that Data Scientist use are:\n",
    "    1. Python\n",
    "    2. R\n",
    "    3. C++"
   ]
  },
  {
   "cell_type": "markdown",
   "id": "cceae4ca-8ded-42c7-951f-7213249953fd",
   "metadata": {},
   "source": [
    "# Some of the commonly used libraries used by Data Scientist Include:\n",
    "    1. Pandas\n",
    "    2. Numpy\n",
    "    3. ggplot"
   ]
  },
  {
   "cell_type": "markdown",
   "id": "03d892d2-bd40-43d3-9761-31a7f3f22fcb",
   "metadata": {},
   "source": [
    "| Data Science Tools | \n",
    "   | -----------| \n",
    "   | Github| \n",
    "   |Rstudio| \n",
    "   |SQL| "
   ]
  },
  {
   "cell_type": "markdown",
   "id": "57c7d041-a92e-4270-a986-1c42b93239c2",
   "metadata": {},
   "source": [
    "### Below are a few examples of evaluating arithmetic expression in Python"
   ]
  },
  {
   "cell_type": "code",
   "execution_count": 1,
   "id": "7cb2c617-6b1a-4bf6-87f9-e60a3b1822e4",
   "metadata": {},
   "outputs": [
    {
     "data": {
      "text/plain": [
       "17"
      ]
     },
     "execution_count": 1,
     "metadata": {},
     "output_type": "execute_result"
    }
   ],
   "source": [
    "(3*4)+5\n"
   ]
  },
  {
   "cell_type": "code",
   "execution_count": 7,
   "id": "b0f46595-514b-478a-b7c8-ce1096d4cc10",
   "metadata": {},
   "outputs": [
    {
     "name": "stdout",
     "output_type": "stream",
     "text": [
      "3.3333333333333335 hours\n"
     ]
    }
   ],
   "source": [
    "n = 200/60\n",
    "print(n, \"hours\")"
   ]
  },
  {
   "cell_type": "markdown",
   "id": "b823e561-a735-4695-aa09-305da74c2b18",
   "metadata": {},
   "source": [
    "# Objectives\n",
    "* R\n",
    "* SQL\n",
    "* Python\n",
    "  "
   ]
  },
  {
   "cell_type": "markdown",
   "id": "a86c80e9-065e-4246-9271-e241f6124af6",
   "metadata": {},
   "source": [
    "## Author\n",
    "Christhoper"
   ]
  },
  {
   "cell_type": "code",
   "execution_count": null,
   "id": "9668075b-acd9-45e3-be9a-e5fe443757f7",
   "metadata": {},
   "outputs": [],
   "source": []
  }
 ],
 "metadata": {
  "kernelspec": {
   "display_name": "Python 3 (ipykernel)",
   "language": "python",
   "name": "python3"
  },
  "language_info": {
   "codemirror_mode": {
    "name": "ipython",
    "version": 3
   },
   "file_extension": ".py",
   "mimetype": "text/x-python",
   "name": "python",
   "nbconvert_exporter": "python",
   "pygments_lexer": "ipython3",
   "version": "3.12.3"
  }
 },
 "nbformat": 4,
 "nbformat_minor": 5
}
